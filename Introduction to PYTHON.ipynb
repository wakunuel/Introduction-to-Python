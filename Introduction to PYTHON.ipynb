{
 "cells": [
  {
   "cell_type": "markdown",
   "id": "0d992678",
   "metadata": {},
   "source": [
    "# Introduction to python programming\n",
    "\n",
    "## Why Python?\n",
    "Python was named for the British comedy troupe Monty Python, Python is one of the fastest, growing, close to english  programming language which can be used on a server to create web applications,  used alongside software to create workflows, connect to database systems,  read and modify files, Python can be used to handle big data and perform complex mathematics, ETC.\n",
    "\n",
    "\n",
    "###  Where can I code python?\n",
    "Python has been intergrated to many platform as it is an open source language. but for the sake of data science anaconda distribution has been major use in the python of today because of it data managemant and ability to combine codes and ,markdown text together on a single sheet therefore more standard presentation is delivered.\n",
    "\n",
    "\n",
    "Just for fun, try reading over the code below and predicting what it's going to do when run. (If you have no idea, that's fine!)\n",
    "\n",
    "Then click the \"output\" button to see the results of our program."
   ]
  },
  {
   "cell_type": "markdown",
   "id": "779b802b",
   "metadata": {},
   "source": [
    "### Common Mathatical operation"
   ]
  },
  {
   "cell_type": "code",
   "execution_count": 4,
   "id": "4acad2ce",
   "metadata": {
    "scrolled": false
   },
   "outputs": [
    {
     "data": {
      "text/plain": [
       "3"
      ]
     },
     "execution_count": 4,
     "metadata": {},
     "output_type": "execute_result"
    }
   ],
   "source": [
    "1+2"
   ]
  },
  {
   "cell_type": "code",
   "execution_count": 5,
   "id": "82b3dfa5",
   "metadata": {},
   "outputs": [
    {
     "data": {
      "text/plain": [
       "0"
      ]
     },
     "execution_count": 5,
     "metadata": {},
     "output_type": "execute_result"
    }
   ],
   "source": [
    "2-2"
   ]
  },
  {
   "cell_type": "code",
   "execution_count": 7,
   "id": "0bce16ba",
   "metadata": {},
   "outputs": [
    {
     "data": {
      "text/plain": [
       "6.666666666666666"
      ]
     },
     "execution_count": 7,
     "metadata": {},
     "output_type": "execute_result"
    }
   ],
   "source": [
    "4+(4*2)/3     #python works with PEMDAS (Perenthesis, Exponent, Multiplication, Division, Addition, Substraction)"
   ]
  },
  {
   "cell_type": "code",
   "execution_count": 8,
   "id": "91f5bfbd",
   "metadata": {},
   "outputs": [
    {
     "name": "stdout",
     "output_type": "stream",
     "text": [
      "2\n"
     ]
    }
   ],
   "source": [
    "print(\"2\") # there is a differnce between print such as this output and the numbers you have been getting since the \n",
    "           # the difference is Out[2] for numbers and not for strings\n",
    "    "
   ]
  },
  {
   "cell_type": "markdown",
   "id": "8ec950dc",
   "metadata": {
    "_cell_guid": "b1076dfc-b9ad-4769-8c92-a6c4dae69d19",
    "_uuid": "8f2839f25d086af736a60e9eeb907d3b93b6e0e5",
    "execution": {
     "iopub.execute_input": "2022-11-23T11:56:23.820823Z",
     "iopub.status.busy": "2022-11-23T11:56:23.820149Z",
     "iopub.status.idle": "2022-11-23T11:56:23.839297Z",
     "shell.execute_reply": "2022-11-23T11:56:23.837405Z"
    },
    "papermill": {
     "duration": 0.046622,
     "end_time": "2022-11-23T11:56:23.842999",
     "exception": false,
     "start_time": "2022-11-23T11:56:23.796377",
     "status": "completed"
    },
    "tags": []
   },
   "source": [
    "## Variable Naming\n",
    "A variable can have a short name (like x and y) or a more descriptive name (age, carname, total_volume). Rules for Python variables:\n",
    "\n",
    "1. A variable name must start with a letter or the underscore character\n",
    "2. A variable name cannot start with a number\n",
    "3. A variable name can only contain alpha-numeric characters and underscores (A-z, 0-9, and _ )\n",
    "4. Variable names are case-sensitive (age, Age and AGE are three different variables)\n",
    "5. A variable name cannot be any of the Python keywords.\n",
    "    \n",
    "#### why use variables\n",
    "1. To reduce repeatation of long and very time consuming expression\n",
    "2. To reduce the run time"
   ]
  },
  {
   "cell_type": "code",
   "execution_count": 16,
   "id": "6c0515cd",
   "metadata": {},
   "outputs": [
    {
     "data": {
      "text/plain": [
       "2"
      ]
     },
     "execution_count": 16,
     "metadata": {},
     "output_type": "execute_result"
    }
   ],
   "source": [
    "A=2\n",
    "A"
   ]
  },
  {
   "cell_type": "code",
   "execution_count": 3,
   "id": "7e6d93a2",
   "metadata": {},
   "outputs": [
    {
     "data": {
      "text/plain": [
       "(1, 2, 3, 4, 4, 5)"
      ]
     },
     "execution_count": 3,
     "metadata": {},
     "output_type": "execute_result"
    }
   ],
   "source": [
    "w=1,2,3,4,4,5\n",
    "w"
   ]
  },
  {
   "cell_type": "code",
   "execution_count": 17,
   "id": "85630142",
   "metadata": {},
   "outputs": [
    {
     "data": {
      "text/plain": [
       "4"
      ]
     },
     "execution_count": 17,
     "metadata": {},
     "output_type": "execute_result"
    }
   ],
   "source": [
    "A+2"
   ]
  },
  {
   "cell_type": "code",
   "execution_count": 18,
   "id": "7f676f74",
   "metadata": {},
   "outputs": [
    {
     "data": {
      "text/plain": [
       "6"
      ]
     },
     "execution_count": 18,
     "metadata": {},
     "output_type": "execute_result"
    }
   ],
   "source": [
    "k=2 # in python program the law of precedence is followed, That is if you define the variable k=2\n",
    "k=5 # and reassign another value to k such as k=5\n",
    "k+1 # python will recognise k's value to as changed and any futher application of k will carry 5 as it value untill you reassign it back to it initial value."
   ]
  },
  {
   "cell_type": "code",
   "execution_count": 19,
   "id": "854b91df",
   "metadata": {},
   "outputs": [
    {
     "data": {
      "text/plain": [
       "6"
      ]
     },
     "execution_count": 19,
     "metadata": {},
     "output_type": "execute_result"
    }
   ],
   "source": [
    "k=2   # you can assign a variable into another varieble\n",
    "w=k+4 # for any value od k the corresponding value of w will change as w now depends on k for its definition\n",
    "w"
   ]
  },
  {
   "cell_type": "markdown",
   "id": "280d4cc4",
   "metadata": {},
   "source": [
    "# Data Containers "
   ]
  },
  {
   "cell_type": "markdown",
   "id": "f06d1f3b",
   "metadata": {},
   "source": [
    "## Dictionary\n",
    "These contain key - value pairs covered with curly brackets \"{}\" i. e.\n",
    "\n",
    "    df={key:values} for single \n",
    "    df={K1:V1,K2:V2,K3:V3,...,Kn:Vn} for multiple data"
   ]
  },
  {
   "cell_type": "code",
   "execution_count": 21,
   "id": "52dc7f4b",
   "metadata": {
    "execution": {
     "iopub.execute_input": "2022-11-23T11:56:23.882944Z",
     "iopub.status.busy": "2022-11-23T11:56:23.882429Z",
     "iopub.status.idle": "2022-11-23T11:56:23.890749Z",
     "shell.execute_reply": "2022-11-23T11:56:23.889223Z"
    },
    "papermill": {
     "duration": 0.032805,
     "end_time": "2022-11-23T11:56:23.894205",
     "exception": false,
     "start_time": "2022-11-23T11:56:23.861400",
     "status": "completed"
    },
    "tags": []
   },
   "outputs": [
    {
     "data": {
      "text/plain": [
       "{'001': 954365, '002': 954471, '003': 954474}"
      ]
     },
     "execution_count": 21,
     "metadata": {},
     "output_type": "execute_result"
    }
   ],
   "source": [
    "D = { '001' : 954365,\n",
    "      '002' : 954471, \n",
    "      '003' : 954474 }\n",
    "D"
   ]
  },
  {
   "cell_type": "code",
   "execution_count": 22,
   "id": "6a2eec29",
   "metadata": {
    "execution": {
     "iopub.execute_input": "2022-11-23T11:56:23.931378Z",
     "iopub.status.busy": "2022-11-23T11:56:23.930935Z",
     "iopub.status.idle": "2022-11-23T11:56:23.941654Z",
     "shell.execute_reply": "2022-11-23T11:56:23.940091Z"
    },
    "papermill": {
     "duration": 0.032937,
     "end_time": "2022-11-23T11:56:23.944912",
     "exception": false,
     "start_time": "2022-11-23T11:56:23.911975",
     "status": "completed"
    },
    "tags": []
   },
   "outputs": [
    {
     "data": {
      "text/plain": [
       "954365"
      ]
     },
     "execution_count": 22,
     "metadata": {},
     "output_type": "execute_result"
    }
   ],
   "source": [
    "D['001']"
   ]
  },
  {
   "cell_type": "code",
   "execution_count": 23,
   "id": "2533050f",
   "metadata": {
    "execution": {
     "iopub.execute_input": "2022-11-23T11:56:23.982227Z",
     "iopub.status.busy": "2022-11-23T11:56:23.981598Z",
     "iopub.status.idle": "2022-11-23T11:56:23.988260Z",
     "shell.execute_reply": "2022-11-23T11:56:23.986354Z"
    },
    "papermill": {
     "duration": 0.029467,
     "end_time": "2022-11-23T11:56:23.991273",
     "exception": false,
     "start_time": "2022-11-23T11:56:23.961806",
     "status": "completed"
    },
    "tags": []
   },
   "outputs": [],
   "source": [
    "D = { '001' : [1,2,3,4,5],\n",
    "      '002' : 168, \n",
    "      '003' : 169 }"
   ]
  },
  {
   "cell_type": "code",
   "execution_count": 24,
   "id": "3a3ba4f0",
   "metadata": {
    "execution": {
     "iopub.execute_input": "2022-11-23T11:56:24.029820Z",
     "iopub.status.busy": "2022-11-23T11:56:24.029296Z",
     "iopub.status.idle": "2022-11-23T11:56:24.038134Z",
     "shell.execute_reply": "2022-11-23T11:56:24.036247Z"
    },
    "papermill": {
     "duration": 0.031725,
     "end_time": "2022-11-23T11:56:24.041565",
     "exception": false,
     "start_time": "2022-11-23T11:56:24.009840",
     "status": "completed"
    },
    "tags": []
   },
   "outputs": [
    {
     "data": {
      "text/plain": [
       "4"
      ]
     },
     "execution_count": 24,
     "metadata": {},
     "output_type": "execute_result"
    }
   ],
   "source": [
    "D['001'][3]"
   ]
  },
  {
   "cell_type": "code",
   "execution_count": 25,
   "id": "77f498d8",
   "metadata": {
    "execution": {
     "iopub.execute_input": "2022-11-23T11:56:24.080330Z",
     "iopub.status.busy": "2022-11-23T11:56:24.079848Z",
     "iopub.status.idle": "2022-11-23T11:56:24.094223Z",
     "shell.execute_reply": "2022-11-23T11:56:24.092409Z"
    },
    "papermill": {
     "duration": 0.037205,
     "end_time": "2022-11-23T11:56:24.097408",
     "exception": false,
     "start_time": "2022-11-23T11:56:24.060203",
     "status": "completed"
    },
    "tags": []
   },
   "outputs": [],
   "source": [
    "D = { '632110167' : {'954471' : 'A' , \n",
    "                     '954340' : 'B' ,\n",
    "                     '954474' : 'A'} \n",
    "    }"
   ]
  },
  {
   "cell_type": "code",
   "execution_count": 26,
   "id": "92fd6f00",
   "metadata": {
    "execution": {
     "iopub.execute_input": "2022-11-23T11:56:24.134206Z",
     "iopub.status.busy": "2022-11-23T11:56:24.133695Z",
     "iopub.status.idle": "2022-11-23T11:56:24.142965Z",
     "shell.execute_reply": "2022-11-23T11:56:24.141234Z"
    },
    "papermill": {
     "duration": 0.031337,
     "end_time": "2022-11-23T11:56:24.146134",
     "exception": false,
     "start_time": "2022-11-23T11:56:24.114797",
     "status": "completed"
    },
    "tags": []
   },
   "outputs": [
    {
     "data": {
      "text/plain": [
       "'B'"
      ]
     },
     "execution_count": 26,
     "metadata": {},
     "output_type": "execute_result"
    }
   ],
   "source": [
    "D['632110167']['954340']"
   ]
  },
  {
   "cell_type": "code",
   "execution_count": 27,
   "id": "ca9214e7",
   "metadata": {
    "execution": {
     "iopub.execute_input": "2022-11-23T11:56:24.186000Z",
     "iopub.status.busy": "2022-11-23T11:56:24.185466Z",
     "iopub.status.idle": "2022-11-23T11:56:24.194159Z",
     "shell.execute_reply": "2022-11-23T11:56:24.192215Z"
    },
    "papermill": {
     "duration": 0.03244,
     "end_time": "2022-11-23T11:56:24.197303",
     "exception": false,
     "start_time": "2022-11-23T11:56:24.164863",
     "status": "completed"
    },
    "tags": []
   },
   "outputs": [],
   "source": [
    "D['632110167']['954340'] = 'C'"
   ]
  },
  {
   "cell_type": "code",
   "execution_count": 28,
   "id": "bc63a332",
   "metadata": {
    "execution": {
     "iopub.execute_input": "2022-11-23T11:56:24.235749Z",
     "iopub.status.busy": "2022-11-23T11:56:24.234463Z",
     "iopub.status.idle": "2022-11-23T11:56:24.243809Z",
     "shell.execute_reply": "2022-11-23T11:56:24.242438Z"
    },
    "papermill": {
     "duration": 0.031432,
     "end_time": "2022-11-23T11:56:24.246677",
     "exception": false,
     "start_time": "2022-11-23T11:56:24.215245",
     "status": "completed"
    },
    "tags": []
   },
   "outputs": [
    {
     "data": {
      "text/plain": [
       "{'632110167': {'954471': 'A', '954340': 'C', '954474': 'A'}}"
      ]
     },
     "execution_count": 28,
     "metadata": {},
     "output_type": "execute_result"
    }
   ],
   "source": [
    "D"
   ]
  },
  {
   "cell_type": "code",
   "execution_count": 29,
   "id": "bac10ab5",
   "metadata": {
    "execution": {
     "iopub.execute_input": "2022-11-23T11:56:24.284276Z",
     "iopub.status.busy": "2022-11-23T11:56:24.283822Z",
     "iopub.status.idle": "2022-11-23T11:56:24.293776Z",
     "shell.execute_reply": "2022-11-23T11:56:24.291809Z"
    },
    "papermill": {
     "duration": 0.032213,
     "end_time": "2022-11-23T11:56:24.297405",
     "exception": false,
     "start_time": "2022-11-23T11:56:24.265192",
     "status": "completed"
    },
    "tags": []
   },
   "outputs": [
    {
     "data": {
      "text/plain": [
       "dict_keys(['632110167'])"
      ]
     },
     "execution_count": 29,
     "metadata": {},
     "output_type": "execute_result"
    }
   ],
   "source": [
    "D.keys()"
   ]
  },
  {
   "cell_type": "code",
   "execution_count": 30,
   "id": "ff4b06c9",
   "metadata": {},
   "outputs": [
    {
     "data": {
      "text/plain": [
       "dict_keys(['954471', '954340', '954474'])"
      ]
     },
     "execution_count": 30,
     "metadata": {},
     "output_type": "execute_result"
    }
   ],
   "source": [
    "D['632110167'].keys()"
   ]
  },
  {
   "cell_type": "code",
   "execution_count": 32,
   "id": "56d52906",
   "metadata": {},
   "outputs": [
    {
     "data": {
      "text/plain": [
       "dict_values([{'954471': 'A', '954340': 'C', '954474': 'A'}])"
      ]
     },
     "execution_count": 32,
     "metadata": {},
     "output_type": "execute_result"
    }
   ],
   "source": [
    "D.values()"
   ]
  },
  {
   "cell_type": "code",
   "execution_count": 33,
   "id": "59c5a3cb",
   "metadata": {
    "execution": {
     "iopub.execute_input": "2022-11-23T11:56:24.384439Z",
     "iopub.status.busy": "2022-11-23T11:56:24.384029Z",
     "iopub.status.idle": "2022-11-23T11:56:24.391774Z",
     "shell.execute_reply": "2022-11-23T11:56:24.390385Z"
    },
    "papermill": {
     "duration": 0.029489,
     "end_time": "2022-11-23T11:56:24.394558",
     "exception": false,
     "start_time": "2022-11-23T11:56:24.365069",
     "status": "completed"
    },
    "tags": []
   },
   "outputs": [
    {
     "data": {
      "text/plain": [
       "dict_values(['A', 'C', 'A'])"
      ]
     },
     "execution_count": 33,
     "metadata": {},
     "output_type": "execute_result"
    }
   ],
   "source": [
    "D['632110167'].values()"
   ]
  },
  {
   "cell_type": "code",
   "execution_count": 34,
   "id": "927e9e79",
   "metadata": {
    "execution": {
     "iopub.execute_input": "2022-11-23T11:56:24.434088Z",
     "iopub.status.busy": "2022-11-23T11:56:24.433584Z",
     "iopub.status.idle": "2022-11-23T11:56:24.440549Z",
     "shell.execute_reply": "2022-11-23T11:56:24.438870Z"
    },
    "papermill": {
     "duration": 0.031367,
     "end_time": "2022-11-23T11:56:24.443775",
     "exception": false,
     "start_time": "2022-11-23T11:56:24.412408",
     "status": "completed"
    },
    "tags": []
   },
   "outputs": [],
   "source": [
    "del D['632110167']['954340']"
   ]
  },
  {
   "cell_type": "code",
   "execution_count": 35,
   "id": "bb29507f",
   "metadata": {
    "execution": {
     "iopub.execute_input": "2022-11-23T11:56:24.481009Z",
     "iopub.status.busy": "2022-11-23T11:56:24.480541Z",
     "iopub.status.idle": "2022-11-23T11:56:24.487391Z",
     "shell.execute_reply": "2022-11-23T11:56:24.486173Z"
    },
    "papermill": {
     "duration": 0.028978,
     "end_time": "2022-11-23T11:56:24.490007",
     "exception": false,
     "start_time": "2022-11-23T11:56:24.461029",
     "status": "completed"
    },
    "tags": []
   },
   "outputs": [
    {
     "data": {
      "text/plain": [
       "{'632110167': {'954471': 'A', '954474': 'A'}}"
      ]
     },
     "execution_count": 35,
     "metadata": {},
     "output_type": "execute_result"
    }
   ],
   "source": [
    "D"
   ]
  },
  {
   "cell_type": "code",
   "execution_count": 36,
   "id": "135fcb84",
   "metadata": {
    "execution": {
     "iopub.execute_input": "2022-11-23T11:56:24.529777Z",
     "iopub.status.busy": "2022-11-23T11:56:24.529279Z",
     "iopub.status.idle": "2022-11-23T11:56:24.537627Z",
     "shell.execute_reply": "2022-11-23T11:56:24.536050Z"
    },
    "papermill": {
     "duration": 0.03209,
     "end_time": "2022-11-23T11:56:24.540549",
     "exception": false,
     "start_time": "2022-11-23T11:56:24.508459",
     "status": "completed"
    },
    "tags": []
   },
   "outputs": [
    {
     "data": {
      "text/plain": [
       "{1: 'A', 2: 'B', 3: 'A'}"
      ]
     },
     "execution_count": 36,
     "metadata": {},
     "output_type": "execute_result"
    }
   ],
   "source": [
    "D = { 1 : 'A', \n",
    "      2 : 'B',\n",
    "      3 : 'A'\n",
    "    } \n",
    "D"
   ]
  },
  {
   "cell_type": "code",
   "execution_count": 37,
   "id": "6554154d",
   "metadata": {
    "execution": {
     "iopub.execute_input": "2022-11-23T11:56:24.579538Z",
     "iopub.status.busy": "2022-11-23T11:56:24.579074Z",
     "iopub.status.idle": "2022-11-23T11:56:24.586804Z",
     "shell.execute_reply": "2022-11-23T11:56:24.585823Z"
    },
    "papermill": {
     "duration": 0.03145,
     "end_time": "2022-11-23T11:56:24.590208",
     "exception": false,
     "start_time": "2022-11-23T11:56:24.558758",
     "status": "completed"
    },
    "tags": []
   },
   "outputs": [
    {
     "data": {
      "text/plain": [
       "{1: 'A', 3: 'A'}"
      ]
     },
     "execution_count": 37,
     "metadata": {},
     "output_type": "execute_result"
    }
   ],
   "source": [
    "del D[2]\n",
    "D"
   ]
  },
  {
   "cell_type": "code",
   "execution_count": 38,
   "id": "0fa8a4a0",
   "metadata": {
    "execution": {
     "iopub.execute_input": "2022-11-23T11:56:24.631536Z",
     "iopub.status.busy": "2022-11-23T11:56:24.631113Z",
     "iopub.status.idle": "2022-11-23T11:56:24.638981Z",
     "shell.execute_reply": "2022-11-23T11:56:24.637630Z"
    },
    "papermill": {
     "duration": 0.032457,
     "end_time": "2022-11-23T11:56:24.642663",
     "exception": false,
     "start_time": "2022-11-23T11:56:24.610206",
     "status": "completed"
    },
    "tags": []
   },
   "outputs": [
    {
     "data": {
      "text/plain": [
       "True"
      ]
     },
     "execution_count": 38,
     "metadata": {},
     "output_type": "execute_result"
    }
   ],
   "source": [
    "1 in D"
   ]
  },
  {
   "cell_type": "code",
   "execution_count": 39,
   "id": "c5cc6184",
   "metadata": {
    "execution": {
     "iopub.execute_input": "2022-11-23T11:56:24.682573Z",
     "iopub.status.busy": "2022-11-23T11:56:24.682093Z",
     "iopub.status.idle": "2022-11-23T11:56:24.690492Z",
     "shell.execute_reply": "2022-11-23T11:56:24.688855Z"
    },
    "papermill": {
     "duration": 0.032701,
     "end_time": "2022-11-23T11:56:24.694088",
     "exception": false,
     "start_time": "2022-11-23T11:56:24.661387",
     "status": "completed"
    },
    "tags": []
   },
   "outputs": [
    {
     "data": {
      "text/plain": [
       "False"
      ]
     },
     "execution_count": 39,
     "metadata": {},
     "output_type": "execute_result"
    }
   ],
   "source": [
    "2 in D"
   ]
  },
  {
   "cell_type": "code",
   "execution_count": 83,
   "id": "6ac6bcad",
   "metadata": {
    "execution": {
     "iopub.execute_input": "2022-11-23T11:56:24.736956Z",
     "iopub.status.busy": "2022-11-23T11:56:24.736118Z",
     "iopub.status.idle": "2022-11-23T11:56:24.746901Z",
     "shell.execute_reply": "2022-11-23T11:56:24.744908Z"
    },
    "papermill": {
     "duration": 0.036806,
     "end_time": "2022-11-23T11:56:24.750850",
     "exception": false,
     "start_time": "2022-11-23T11:56:24.714044",
     "status": "completed"
    },
    "tags": []
   },
   "outputs": [
    {
     "data": {
      "text/plain": [
       "{3: 'A', 2: 'B', 1: 'A'}"
      ]
     },
     "execution_count": 83,
     "metadata": {},
     "output_type": "execute_result"
    }
   ],
   "source": [
    "D = { 3 : 'A', \n",
    "      2 : 'B',\n",
    "      1 : 'A'} \n",
    "D"
   ]
  },
  {
   "cell_type": "code",
   "execution_count": 41,
   "id": "08336288",
   "metadata": {
    "execution": {
     "iopub.execute_input": "2022-11-23T11:56:24.792191Z",
     "iopub.status.busy": "2022-11-23T11:56:24.791756Z",
     "iopub.status.idle": "2022-11-23T11:56:24.800769Z",
     "shell.execute_reply": "2022-11-23T11:56:24.798663Z"
    },
    "papermill": {
     "duration": 0.035618,
     "end_time": "2022-11-23T11:56:24.805052",
     "exception": false,
     "start_time": "2022-11-23T11:56:24.769434",
     "status": "completed"
    },
    "tags": []
   },
   "outputs": [
    {
     "data": {
      "text/plain": [
       "[1, 2, 3]"
      ]
     },
     "execution_count": 41,
     "metadata": {},
     "output_type": "execute_result"
    }
   ],
   "source": [
    "sorted(D)"
   ]
  },
  {
   "cell_type": "code",
   "execution_count": 42,
   "id": "9764474b",
   "metadata": {
    "execution": {
     "iopub.execute_input": "2022-11-23T11:56:24.846254Z",
     "iopub.status.busy": "2022-11-23T11:56:24.845820Z",
     "iopub.status.idle": "2022-11-23T11:56:24.854689Z",
     "shell.execute_reply": "2022-11-23T11:56:24.852852Z"
    },
    "papermill": {
     "duration": 0.034213,
     "end_time": "2022-11-23T11:56:24.857616",
     "exception": false,
     "start_time": "2022-11-23T11:56:24.823403",
     "status": "completed"
    },
    "tags": []
   },
   "outputs": [
    {
     "data": {
      "text/plain": [
       "True"
      ]
     },
     "execution_count": 42,
     "metadata": {},
     "output_type": "execute_result"
    }
   ],
   "source": [
    "3 in D"
   ]
  },
  {
   "cell_type": "code",
   "execution_count": 53,
   "id": "63dd5882",
   "metadata": {},
   "outputs": [
    {
     "data": {
      "text/plain": [
       "[1, 2, 3]"
      ]
     },
     "execution_count": 53,
     "metadata": {},
     "output_type": "execute_result"
    }
   ],
   "source": [
    "a=sorted(D)\n",
    "a"
   ]
  },
  {
   "cell_type": "markdown",
   "id": "f0cf895a",
   "metadata": {},
   "source": [
    "# Conditional statement."
   ]
  },
  {
   "cell_type": "markdown",
   "id": "26a0d07d",
   "metadata": {},
   "source": [
    "## IF statement\n",
    "\n",
    "The IF statement is a decision-making statement that guides a program to make decisions based on specified criterion. The IF statement executes one set of code if a specified condition is met (TRUE) or another set of code evaluates to FALSE"
   ]
  },
  {
   "cell_type": "markdown",
   "id": "46a2730e",
   "metadata": {},
   "source": [
    "### To use if statements in Python, you can follow these steps12:\n",
    "Start with a basic if statement. The syntax is: if : ...\n",
    "1. Add an else statement to execute some code if the condition isn't met.\n",
    "2. Add an elif statement to add more conditions.\n",
    "3. Add multiple conditions to add complexity.\n",
    "4. Add nested if statements to add more complexity."
   ]
  },
  {
   "cell_type": "code",
   "execution_count": 58,
   "id": "e12111c9",
   "metadata": {
    "execution": {
     "iopub.execute_input": "2022-11-23T11:56:24.898550Z",
     "iopub.status.busy": "2022-11-23T11:56:24.898110Z",
     "iopub.status.idle": "2022-11-23T11:56:24.904814Z",
     "shell.execute_reply": "2022-11-23T11:56:24.903282Z"
    },
    "papermill": {
     "duration": 0.030596,
     "end_time": "2022-11-23T11:56:24.907814",
     "exception": false,
     "start_time": "2022-11-23T11:56:24.877218",
     "status": "completed"
    },
    "tags": []
   },
   "outputs": [
    {
     "name": "stdout",
     "output_type": "stream",
     "text": [
      "a equal to 2\n"
     ]
    }
   ],
   "source": [
    "a = 2\n",
    "if a == 2: # Never forget the ':' after the condition syntax\n",
    "    print(\"a equal to 2\")\n",
    "else:\n",
    "    print(\"a not equal to 2\")"
   ]
  },
  {
   "cell_type": "code",
   "execution_count": 59,
   "id": "ac43f929",
   "metadata": {
    "execution": {
     "iopub.execute_input": "2022-11-23T11:56:25.002641Z",
     "iopub.status.busy": "2022-11-23T11:56:25.002110Z",
     "iopub.status.idle": "2022-11-23T11:56:25.010411Z",
     "shell.execute_reply": "2022-11-23T11:56:25.008635Z"
    },
    "papermill": {
     "duration": 0.03392,
     "end_time": "2022-11-23T11:56:25.013365",
     "exception": false,
     "start_time": "2022-11-23T11:56:24.979445",
     "status": "completed"
    },
    "tags": []
   },
   "outputs": [
    {
     "name": "stdout",
     "output_type": "stream",
     "text": [
      "what is a: 0\n",
      "a is zero\n"
     ]
    }
   ],
   "source": [
    "a = int(input(\"what is a: \")) # add the value by yourself\n",
    "if a == 2:\n",
    "    print(\"a equal to 2\")\n",
    "elif a == 0:\n",
    "    print(\"a is zero\")\n",
    "else:\n",
    "    print(\"a not equal to 2\")"
   ]
  },
  {
   "cell_type": "code",
   "execution_count": 85,
   "id": "562017b1",
   "metadata": {
    "execution": {
     "iopub.execute_input": "2022-11-23T11:56:25.055583Z",
     "iopub.status.busy": "2022-11-23T11:56:25.055150Z",
     "iopub.status.idle": "2022-11-23T11:56:25.063343Z",
     "shell.execute_reply": "2022-11-23T11:56:25.061774Z"
    },
    "papermill": {
     "duration": 0.034596,
     "end_time": "2022-11-23T11:56:25.068556",
     "exception": false,
     "start_time": "2022-11-23T11:56:25.033960",
     "status": "completed"
    },
    "tags": []
   },
   "outputs": [
    {
     "name": "stdout",
     "output_type": "stream",
     "text": [
      "what is a: 5\n",
      "what is b: 55\n",
      "Not needed here\n"
     ]
    }
   ],
   "source": [
    "a = int(input(\"what is a: \"))\n",
    "b = int(input(\"what is b: \"))\n",
    "if a == 2 and b == 3 :\n",
    "    print('True')\n",
    "if a > 2 or b > 3 :\n",
    "    print(\"Not needed here\")"
   ]
  },
  {
   "cell_type": "code",
   "execution_count": 66,
   "id": "9a1e6a17",
   "metadata": {
    "execution": {
     "iopub.execute_input": "2022-11-23T11:56:25.110650Z",
     "iopub.status.busy": "2022-11-23T11:56:25.109543Z",
     "iopub.status.idle": "2022-11-23T11:56:25.118162Z",
     "shell.execute_reply": "2022-11-23T11:56:25.116446Z"
    },
    "papermill": {
     "duration": 0.033229,
     "end_time": "2022-11-23T11:56:25.121401",
     "exception": false,
     "start_time": "2022-11-23T11:56:25.088172",
     "status": "completed"
    },
    "tags": []
   },
   "outputs": [
    {
     "name": "stdout",
     "output_type": "stream",
     "text": [
      "what is a: 8\n",
      "what is a: 0\n",
      "8\n"
     ]
    }
   ],
   "source": [
    "a = int(input(\"what is a: \"))\n",
    "b = int(input(\"what is a: \"))\n",
    "if a == 2 and b == 3:\n",
    "    print('True')\n",
    "if a == 2 or b == 3:\n",
    "    print(\"Not sure\")\n",
    "elif a == 8:\n",
    "    print(\"8\")"
   ]
  },
  {
   "cell_type": "code",
   "execution_count": 27,
   "id": "b0a74dec",
   "metadata": {
    "execution": {
     "iopub.execute_input": "2022-11-23T11:56:25.161593Z",
     "iopub.status.busy": "2022-11-23T11:56:25.161152Z",
     "iopub.status.idle": "2022-11-23T11:56:25.167759Z",
     "shell.execute_reply": "2022-11-23T11:56:25.166338Z"
    },
    "papermill": {
     "duration": 0.029462,
     "end_time": "2022-11-23T11:56:25.170517",
     "exception": false,
     "start_time": "2022-11-23T11:56:25.141055",
     "status": "completed"
    },
    "tags": []
   },
   "outputs": [
    {
     "name": "stdout",
     "output_type": "stream",
     "text": [
      "Yes\n"
     ]
    }
   ],
   "source": [
    "L = [\"Pladook\", \"Jan\", \"Om-cha\", \"Here\"]\n",
    "if \"Here\" in L:\n",
    "    print(\"Yes\")"
   ]
  },
  {
   "cell_type": "code",
   "execution_count": 28,
   "id": "d838a9ae",
   "metadata": {
    "execution": {
     "iopub.execute_input": "2022-11-23T11:56:25.210709Z",
     "iopub.status.busy": "2022-11-23T11:56:25.210251Z",
     "iopub.status.idle": "2022-11-23T11:56:25.217908Z",
     "shell.execute_reply": "2022-11-23T11:56:25.216817Z"
    },
    "papermill": {
     "duration": 0.030938,
     "end_time": "2022-11-23T11:56:25.220829",
     "exception": false,
     "start_time": "2022-11-23T11:56:25.189891",
     "status": "completed"
    },
    "tags": []
   },
   "outputs": [
    {
     "data": {
      "text/plain": [
       "4"
      ]
     },
     "execution_count": 28,
     "metadata": {},
     "output_type": "execute_result"
    }
   ],
   "source": [
    "len(L)"
   ]
  },
  {
   "cell_type": "markdown",
   "id": "2e85c501",
   "metadata": {},
   "source": [
    "# LOOP"
   ]
  },
  {
   "cell_type": "markdown",
   "id": "e7702acc",
   "metadata": {},
   "source": [
    "## For loop\n",
    "A for loop in Python is used to iterate over a sequence123. The for-loop is always used in combination with an iterable object, like a list or a range1. To write a for loop in Python, you need to:\n",
    "1. Tell Python you want to create a for loop by starting the statement with for.\n",
    "2. Write the iterator variable (or loop variable).\n",
    "3. Use the keyword in.\n",
    "4. Add the iterable followed by a colon.\n",
    "5. Write your loop statements in an indented block"
   ]
  },
  {
   "cell_type": "code",
   "execution_count": 57,
   "id": "f625afd7",
   "metadata": {},
   "outputs": [
    {
     "data": {
      "text/plain": [
       "{1: 'A', 2: 'B', 3: 'A'}"
      ]
     },
     "execution_count": 57,
     "metadata": {},
     "output_type": "execute_result"
    }
   ],
   "source": [
    "k={}\n",
    "for i  in a:\n",
    "    k[i]=D[i]\n",
    "    \n",
    "k"
   ]
  },
  {
   "cell_type": "code",
   "execution_count": 29,
   "id": "d65c1b5f",
   "metadata": {
    "execution": {
     "iopub.execute_input": "2022-11-23T11:56:25.261009Z",
     "iopub.status.busy": "2022-11-23T11:56:25.260378Z",
     "iopub.status.idle": "2022-11-23T11:56:25.267429Z",
     "shell.execute_reply": "2022-11-23T11:56:25.266026Z"
    },
    "papermill": {
     "duration": 0.032248,
     "end_time": "2022-11-23T11:56:25.271698",
     "exception": false,
     "start_time": "2022-11-23T11:56:25.239450",
     "status": "completed"
    },
    "tags": []
   },
   "outputs": [
    {
     "name": "stdout",
     "output_type": "stream",
     "text": [
      "Pladook\n",
      "Jan\n",
      "Om-cha\n",
      "Here\n"
     ]
    }
   ],
   "source": [
    "for i in range(0, len(L)):\n",
    "    print(L[i])"
   ]
  },
  {
   "cell_type": "code",
   "execution_count": 30,
   "id": "f4735390",
   "metadata": {
    "execution": {
     "iopub.execute_input": "2022-11-23T11:56:25.311812Z",
     "iopub.status.busy": "2022-11-23T11:56:25.311345Z",
     "iopub.status.idle": "2022-11-23T11:56:25.318090Z",
     "shell.execute_reply": "2022-11-23T11:56:25.316491Z"
    },
    "papermill": {
     "duration": 0.029628,
     "end_time": "2022-11-23T11:56:25.321094",
     "exception": false,
     "start_time": "2022-11-23T11:56:25.291466",
     "status": "completed"
    },
    "tags": []
   },
   "outputs": [
    {
     "name": "stdout",
     "output_type": "stream",
     "text": [
      "Pladook\n",
      "Here\n"
     ]
    }
   ],
   "source": [
    "for i in range(0, len(L), 3):\n",
    "    print(L[i])"
   ]
  },
  {
   "cell_type": "code",
   "execution_count": 31,
   "id": "04659cbf",
   "metadata": {},
   "outputs": [
    {
     "data": {
      "text/plain": [
       "[1, 3, 5, 7]"
      ]
     },
     "execution_count": 31,
     "metadata": {},
     "output_type": "execute_result"
    }
   ],
   "source": [
    "k=[]\n",
    "for i  in range(1,9,2):\n",
    "    k.append(i)\n",
    "k"
   ]
  },
  {
   "cell_type": "code",
   "execution_count": 32,
   "id": "f714e568",
   "metadata": {
    "execution": {
     "iopub.execute_input": "2022-11-23T11:56:25.361902Z",
     "iopub.status.busy": "2022-11-23T11:56:25.361421Z",
     "iopub.status.idle": "2022-11-23T11:56:25.368391Z",
     "shell.execute_reply": "2022-11-23T11:56:25.366852Z"
    },
    "papermill": {
     "duration": 0.031168,
     "end_time": "2022-11-23T11:56:25.370930",
     "exception": false,
     "start_time": "2022-11-23T11:56:25.339762",
     "status": "completed"
    },
    "tags": []
   },
   "outputs": [
    {
     "name": "stdout",
     "output_type": "stream",
     "text": [
      "\n",
      "!\n",
      "!!\n",
      "!!!\n",
      "!!!!\n",
      "!!!!!\n",
      "!!!!!!\n",
      "!!!!!!!\n",
      "!!!!!!!!\n",
      "!!!!!!!!!\n",
      "!!!!!!!!!!\n",
      "!!!!!!!!!!!\n",
      "!!!!!!!!!!!!\n",
      "!!!!!!!!!!!!!\n",
      "!!!!!!!!!!!!!!\n",
      "!!!!!!!!!!!!!!!\n",
      "!!!!!!!!!!!!!!!!\n",
      "!!!!!!!!!!!!!!!!!\n",
      "!!!!!!!!!!!!!!!!!!\n",
      "!!!!!!!!!!!!!!!!!!!\n"
     ]
    }
   ],
   "source": [
    "for i in range(0,20):\n",
    "    print('!' * i)"
   ]
  },
  {
   "cell_type": "code",
   "execution_count": 33,
   "id": "f246d76c",
   "metadata": {
    "execution": {
     "iopub.execute_input": "2022-11-23T11:56:25.411930Z",
     "iopub.status.busy": "2022-11-23T11:56:25.411436Z",
     "iopub.status.idle": "2022-11-23T11:56:25.418982Z",
     "shell.execute_reply": "2022-11-23T11:56:25.417099Z"
    },
    "papermill": {
     "duration": 0.032222,
     "end_time": "2022-11-23T11:56:25.422836",
     "exception": false,
     "start_time": "2022-11-23T11:56:25.390614",
     "status": "completed"
    },
    "tags": []
   },
   "outputs": [
    {
     "name": "stdout",
     "output_type": "stream",
     "text": [
      "\n",
      "*\n",
      "**\n",
      "***\n",
      "****\n",
      "*****\n",
      "******\n",
      "*******\n",
      "********\n",
      "*********\n",
      "********\n",
      "*******\n",
      "******\n",
      "*****\n",
      "****\n",
      "***\n",
      "**\n",
      "*\n"
     ]
    }
   ],
   "source": [
    "for i in range(0,10):\n",
    "    print('*' * i)\n",
    "for i in range(8,0,-1):\n",
    "    print('*' * i)"
   ]
  },
  {
   "cell_type": "code",
   "execution_count": 34,
   "id": "87aece38",
   "metadata": {
    "execution": {
     "iopub.execute_input": "2022-11-23T11:56:25.466895Z",
     "iopub.status.busy": "2022-11-23T11:56:25.466343Z",
     "iopub.status.idle": "2022-11-23T11:56:25.474695Z",
     "shell.execute_reply": "2022-11-23T11:56:25.472781Z"
    },
    "papermill": {
     "duration": 0.033663,
     "end_time": "2022-11-23T11:56:25.477655",
     "exception": false,
     "start_time": "2022-11-23T11:56:25.443992",
     "status": "completed"
    },
    "tags": []
   },
   "outputs": [
    {
     "name": "stdout",
     "output_type": "stream",
     "text": [
      "\n",
      "*\n",
      "**\n",
      "***\n",
      "****\n",
      "*****\n",
      "******\n",
      "*******\n",
      "********\n",
      "*********\n",
      "*********\n",
      "********\n",
      "*******\n",
      "******\n",
      "*****\n",
      "****\n",
      "***\n",
      "**\n",
      "*\n"
     ]
    }
   ],
   "source": [
    "for i in range(0,10):\n",
    "    print('*' * i)\n",
    "for i in range(9,0,-1):\n",
    "    print('*' * i)"
   ]
  },
  {
   "cell_type": "code",
   "execution_count": 35,
   "id": "a65781fc",
   "metadata": {
    "execution": {
     "iopub.execute_input": "2022-11-23T11:56:25.520072Z",
     "iopub.status.busy": "2022-11-23T11:56:25.519628Z",
     "iopub.status.idle": "2022-11-23T11:56:25.526466Z",
     "shell.execute_reply": "2022-11-23T11:56:25.524998Z"
    },
    "papermill": {
     "duration": 0.031776,
     "end_time": "2022-11-23T11:56:25.530030",
     "exception": false,
     "start_time": "2022-11-23T11:56:25.498254",
     "status": "completed"
    },
    "tags": []
   },
   "outputs": [
    {
     "name": "stdout",
     "output_type": "stream",
     "text": [
      "        \n",
      "        *\n",
      "        **\n",
      "        ***\n",
      "        ****\n",
      "        *****\n",
      "        ******\n",
      "        *******\n",
      "        ********\n",
      "        *********\n",
      "********\n",
      "*******\n",
      "******\n",
      "*****\n",
      "****\n",
      "***\n",
      "**\n",
      "*\n"
     ]
    }
   ],
   "source": [
    "for i in range(0,10):\n",
    "    print(' ' * (9-1) + '*' * i)\n",
    "for i in range(8,0,-1):\n",
    "    print('*' * i)"
   ]
  },
  {
   "cell_type": "code",
   "execution_count": 36,
   "id": "86c35ec6",
   "metadata": {},
   "outputs": [
    {
     "name": "stdout",
     "output_type": "stream",
     "text": [
      "\n",
      " *\n",
      "  **\n",
      "   ***\n",
      "    ****\n",
      "     *****\n",
      "      ******\n",
      "       *******\n",
      "        ********\n",
      "         *********\n",
      "          **********\n",
      "           ***********\n",
      "            ************\n",
      "             *************\n",
      "              **************\n",
      "               ***************\n",
      "                ****************\n",
      "                 *****************\n",
      "                  ******************\n",
      "                   *******************\n"
     ]
    }
   ],
   "source": [
    "for i in range(0,20):\n",
    "    print(' ' * (i) + '*' * i)"
   ]
  },
  {
   "cell_type": "code",
   "execution_count": 24,
   "id": "ef89d579",
   "metadata": {
    "execution": {
     "iopub.execute_input": "2022-11-23T11:56:25.573268Z",
     "iopub.status.busy": "2022-11-23T11:56:25.572855Z",
     "iopub.status.idle": "2022-11-23T11:56:25.580300Z",
     "shell.execute_reply": "2022-11-23T11:56:25.578806Z"
    },
    "papermill": {
     "duration": 0.033463,
     "end_time": "2022-11-23T11:56:25.584044",
     "exception": false,
     "start_time": "2022-11-23T11:56:25.550581",
     "status": "completed"
    },
    "tags": []
   },
   "outputs": [
    {
     "name": "stdout",
     "output_type": "stream",
     "text": [
      "         \n",
      "        *\n",
      "       **\n",
      "      ***\n",
      "     ****\n",
      "    *****\n",
      "   ******\n",
      "  *******\n",
      " ********\n",
      "*********\n",
      "********\n",
      "*******\n",
      "******\n",
      "*****\n",
      "****\n",
      "***\n",
      "**\n",
      "*\n"
     ]
    }
   ],
   "source": [
    "for i in range(0,10):\n",
    "    print(' ' * (9-i) + '*' * i)\n",
    "for i in range(8,0,-1):\n",
    "    print('*' * i)"
   ]
  },
  {
   "cell_type": "code",
   "execution_count": 21,
   "id": "9b2d8a0d",
   "metadata": {
    "execution": {
     "iopub.execute_input": "2022-11-23T11:56:25.628338Z",
     "iopub.status.busy": "2022-11-23T11:56:25.627916Z",
     "iopub.status.idle": "2022-11-23T11:56:25.635319Z",
     "shell.execute_reply": "2022-11-23T11:56:25.634285Z"
    },
    "papermill": {
     "duration": 0.033954,
     "end_time": "2022-11-23T11:56:25.638143",
     "exception": false,
     "start_time": "2022-11-23T11:56:25.604189",
     "status": "completed"
    },
    "tags": []
   },
   "outputs": [
    {
     "name": "stdout",
     "output_type": "stream",
     "text": [
      "          \n",
      "         *\n",
      "        **\n",
      "       ***\n",
      "      ****\n",
      "     *****\n",
      "    ******\n",
      "   *******\n",
      "  ********\n",
      " *********\n",
      "**********\n",
      "***********\n",
      "************\n",
      "*************\n",
      "**************\n",
      "***************\n",
      "****************\n",
      "*****************\n",
      "******************\n",
      "*******************\n",
      "**********\n",
      "*********\n",
      "********\n",
      "*******\n",
      "******\n",
      "*****\n",
      "****\n",
      "***\n",
      "**\n",
      "*\n"
     ]
    }
   ],
   "source": [
    "for i in range(0,20):\n",
    "    print(' ' * (10-i) + '*' * i)\n",
    "for i in range(10,0,-1):\n",
    "    print('*' * i)"
   ]
  },
  {
   "cell_type": "code",
   "execution_count": 89,
   "id": "06b7ef2f",
   "metadata": {
    "execution": {
     "iopub.execute_input": "2022-11-23T11:56:25.682328Z",
     "iopub.status.busy": "2022-11-23T11:56:25.681830Z",
     "iopub.status.idle": "2022-11-23T11:56:25.690442Z",
     "shell.execute_reply": "2022-11-23T11:56:25.688524Z"
    },
    "papermill": {
     "duration": 0.035174,
     "end_time": "2022-11-23T11:56:25.694977",
     "exception": false,
     "start_time": "2022-11-23T11:56:25.659803",
     "status": "completed"
    },
    "tags": []
   },
   "outputs": [
    {
     "name": "stdout",
     "output_type": "stream",
     "text": [
      "         \n",
      "        __\n",
      "       ____\n",
      "      ______\n",
      "     ________\n",
      "    __________\n",
      "   ____________\n",
      "  ______________\n",
      " ________________\n",
      "__________________\n",
      "******** ********\n",
      "*******  *******\n",
      "******   ******\n",
      "*****    *****\n",
      "****     ****\n",
      "***      ***\n",
      "**       **\n",
      "*        *\n"
     ]
    }
   ],
   "source": [
    "for i in range(0,10):\n",
    "    print(' ' * (9-i) + '_' * i, end = '')\n",
    "    print('_' * i)\n",
    "for i in range(8,0, -1):\n",
    "    print('*' * i, end = '')\n",
    "    print(' ' * (9-i) + '*' * i)"
   ]
  },
  {
   "cell_type": "code",
   "execution_count": 37,
   "id": "7e317d88",
   "metadata": {},
   "outputs": [
    {
     "data": {
      "text/plain": [
       "['Pladook', 'Jan', 'Om-cha', 'Here']"
      ]
     },
     "execution_count": 37,
     "metadata": {},
     "output_type": "execute_result"
    }
   ],
   "source": [
    "L"
   ]
  },
  {
   "cell_type": "code",
   "execution_count": 38,
   "id": "40eae8b2",
   "metadata": {
    "execution": {
     "iopub.execute_input": "2022-11-23T11:56:25.740162Z",
     "iopub.status.busy": "2022-11-23T11:56:25.739675Z",
     "iopub.status.idle": "2022-11-23T11:56:25.746759Z",
     "shell.execute_reply": "2022-11-23T11:56:25.745125Z"
    },
    "papermill": {
     "duration": 0.033772,
     "end_time": "2022-11-23T11:56:25.750300",
     "exception": false,
     "start_time": "2022-11-23T11:56:25.716528",
     "status": "completed"
    },
    "tags": []
   },
   "outputs": [
    {
     "name": "stdout",
     "output_type": "stream",
     "text": [
      "Pladook\n",
      "Jan\n",
      "Om-cha\n",
      "Here\n"
     ]
    }
   ],
   "source": [
    "for item in L:\n",
    "    print(item)"
   ]
  },
  {
   "cell_type": "code",
   "execution_count": 39,
   "id": "d825c96e",
   "metadata": {
    "execution": {
     "iopub.execute_input": "2022-11-23T11:56:25.796403Z",
     "iopub.status.busy": "2022-11-23T11:56:25.795684Z",
     "iopub.status.idle": "2022-11-23T11:56:25.804382Z",
     "shell.execute_reply": "2022-11-23T11:56:25.802693Z"
    },
    "papermill": {
     "duration": 0.037634,
     "end_time": "2022-11-23T11:56:25.809130",
     "exception": false,
     "start_time": "2022-11-23T11:56:25.771496",
     "status": "completed"
    },
    "tags": []
   },
   "outputs": [
    {
     "name": "stdout",
     "output_type": "stream",
     "text": [
      "Pladook\n",
      "Jan\n",
      "Om-cha\n",
      "Here\n"
     ]
    }
   ],
   "source": [
    "for i in range(0,len(L)):\n",
    "    print(L[i])"
   ]
  },
  {
   "cell_type": "code",
   "execution_count": 96,
   "id": "7fbd1e5b",
   "metadata": {
    "execution": {
     "iopub.execute_input": "2022-11-23T11:56:25.855414Z",
     "iopub.status.busy": "2022-11-23T11:56:25.854967Z",
     "iopub.status.idle": "2022-11-23T11:56:25.862737Z",
     "shell.execute_reply": "2022-11-23T11:56:25.861088Z"
    },
    "papermill": {
     "duration": 0.036072,
     "end_time": "2022-11-23T11:56:25.866680",
     "exception": false,
     "start_time": "2022-11-23T11:56:25.830608",
     "status": "completed"
    },
    "tags": []
   },
   "outputs": [
    {
     "name": "stdout",
     "output_type": "stream",
     "text": [
      "1. Pladook\n",
      "2. Jan\n",
      "3. Om-cha\n",
      "4. Here\n"
     ]
    }
   ],
   "source": [
    "for i in range(0,len(L)):\n",
    "    print(str(i+1) + '. ' + L[i])"
   ]
  },
  {
   "cell_type": "code",
   "execution_count": 40,
   "id": "48df175d",
   "metadata": {
    "execution": {
     "iopub.execute_input": "2022-11-23T11:56:25.912496Z",
     "iopub.status.busy": "2022-11-23T11:56:25.911538Z",
     "iopub.status.idle": "2022-11-23T11:56:25.919413Z",
     "shell.execute_reply": "2022-11-23T11:56:25.917247Z"
    },
    "papermill": {
     "duration": 0.035667,
     "end_time": "2022-11-23T11:56:25.924944",
     "exception": false,
     "start_time": "2022-11-23T11:56:25.889277",
     "status": "completed"
    },
    "tags": []
   },
   "outputs": [
    {
     "name": "stdout",
     "output_type": "stream",
     "text": [
      "0. Pladook\n",
      "1. Jan\n",
      "2. Om-cha\n",
      "3. Here\n"
     ]
    }
   ],
   "source": [
    "for i in range(0,len(L)):\n",
    "    print(str(i) + '. ' + L[i])"
   ]
  },
  {
   "cell_type": "code",
   "execution_count": 42,
   "id": "b3a31776",
   "metadata": {
    "execution": {
     "iopub.execute_input": "2022-11-23T11:56:25.972797Z",
     "iopub.status.busy": "2022-11-23T11:56:25.971651Z",
     "iopub.status.idle": "2022-11-23T11:56:25.980201Z",
     "shell.execute_reply": "2022-11-23T11:56:25.978885Z"
    },
    "papermill": {
     "duration": 0.036096,
     "end_time": "2022-11-23T11:56:25.983053",
     "exception": false,
     "start_time": "2022-11-23T11:56:25.946957",
     "status": "completed"
    },
    "tags": []
   },
   "outputs": [
    {
     "name": "stdout",
     "output_type": "stream",
     "text": [
      "1. Pladook\n",
      "2. Jan\n",
      "3. Om-cha\n",
      "4. Here\n"
     ]
    }
   ],
   "source": [
    "i = 1\n",
    "for item in L:\n",
    "    print(str(i) + '. ' + item)\n",
    "    i = i + 1"
   ]
  },
  {
   "cell_type": "code",
   "execution_count": 48,
   "id": "cb6e8be4",
   "metadata": {
    "execution": {
     "iopub.execute_input": "2022-11-23T11:56:26.027181Z",
     "iopub.status.busy": "2022-11-23T11:56:26.026642Z",
     "iopub.status.idle": "2022-11-23T11:56:26.033856Z",
     "shell.execute_reply": "2022-11-23T11:56:26.032308Z"
    },
    "papermill": {
     "duration": 0.03384,
     "end_time": "2022-11-23T11:56:26.038528",
     "exception": false,
     "start_time": "2022-11-23T11:56:26.004688",
     "status": "completed"
    },
    "scrolled": true,
    "tags": []
   },
   "outputs": [
    {
     "name": "stdout",
     "output_type": "stream",
     "text": [
      "1. Pladook\n",
      "2. Jan\n",
      "3. Om-cha\n",
      "4. Here\n"
     ]
    }
   ],
   "source": [
    "for i,item in enumerate(L):\n",
    "    print(str(i+1) + '. ' + item)"
   ]
  },
  {
   "cell_type": "code",
   "execution_count": 50,
   "id": "693d18f4",
   "metadata": {
    "execution": {
     "iopub.execute_input": "2022-11-23T11:56:26.083505Z",
     "iopub.status.busy": "2022-11-23T11:56:26.083045Z",
     "iopub.status.idle": "2022-11-23T11:56:26.092065Z",
     "shell.execute_reply": "2022-11-23T11:56:26.090805Z"
    },
    "papermill": {
     "duration": 0.033953,
     "end_time": "2022-11-23T11:56:26.094744",
     "exception": false,
     "start_time": "2022-11-23T11:56:26.060791",
     "status": "completed"
    },
    "tags": []
   },
   "outputs": [
    {
     "data": {
      "text/plain": [
       "{'1': 'A', '2': 'B', '3': 'C', '4': 'D', '5': 'E'}"
      ]
     },
     "execution_count": 50,
     "metadata": {},
     "output_type": "execute_result"
    }
   ],
   "source": [
    "D = {'1': 'A' , \n",
    "     '2' : 'B',\n",
    "     '3' : 'C',\n",
    "     '4' : 'D',\n",
    "     '5' : 'E'\n",
    "    }\n",
    "D"
   ]
  },
  {
   "cell_type": "code",
   "execution_count": 51,
   "id": "d04da84c",
   "metadata": {
    "execution": {
     "iopub.execute_input": "2022-11-23T11:56:26.138376Z",
     "iopub.status.busy": "2022-11-23T11:56:26.137912Z",
     "iopub.status.idle": "2022-11-23T11:56:26.145689Z",
     "shell.execute_reply": "2022-11-23T11:56:26.143499Z"
    },
    "papermill": {
     "duration": 0.034127,
     "end_time": "2022-11-23T11:56:26.148840",
     "exception": false,
     "start_time": "2022-11-23T11:56:26.114713",
     "status": "completed"
    },
    "tags": []
   },
   "outputs": [
    {
     "name": "stdout",
     "output_type": "stream",
     "text": [
      "1. A\n",
      "2. B\n",
      "3. C\n",
      "4. D\n",
      "5. E\n"
     ]
    }
   ],
   "source": [
    "for i, key in enumerate(D):\n",
    "    print(str(i+1) + '. ' + D[key])"
   ]
  },
  {
   "cell_type": "code",
   "execution_count": 52,
   "id": "b59133e9",
   "metadata": {
    "execution": {
     "iopub.execute_input": "2022-11-23T11:56:26.196430Z",
     "iopub.status.busy": "2022-11-23T11:56:26.195189Z",
     "iopub.status.idle": "2022-11-23T11:56:26.202308Z",
     "shell.execute_reply": "2022-11-23T11:56:26.200982Z"
    },
    "papermill": {
     "duration": 0.035511,
     "end_time": "2022-11-23T11:56:26.206031",
     "exception": false,
     "start_time": "2022-11-23T11:56:26.170520",
     "status": "completed"
    },
    "tags": []
   },
   "outputs": [
    {
     "name": "stdout",
     "output_type": "stream",
     "text": [
      "A\n",
      "B\n",
      "C\n",
      "D\n",
      "E\n"
     ]
    }
   ],
   "source": [
    "for key in D:\n",
    "    print(D[key])"
   ]
  },
  {
   "cell_type": "code",
   "execution_count": 59,
   "id": "bcca70be",
   "metadata": {
    "execution": {
     "iopub.execute_input": "2022-11-23T11:56:26.251976Z",
     "iopub.status.busy": "2022-11-23T11:56:26.251182Z",
     "iopub.status.idle": "2022-11-23T11:56:26.259741Z",
     "shell.execute_reply": "2022-11-23T11:56:26.257712Z"
    },
    "papermill": {
     "duration": 0.036389,
     "end_time": "2022-11-23T11:56:26.263050",
     "exception": false,
     "start_time": "2022-11-23T11:56:26.226661",
     "status": "completed"
    },
    "tags": []
   },
   "outputs": [
    {
     "name": "stdout",
     "output_type": "stream",
     "text": [
      "A\n",
      "B\n",
      "C\n",
      "D\n",
      "E\n"
     ]
    }
   ],
   "source": [
    "for value in list(D.values()):\n",
    "    print(value)"
   ]
  },
  {
   "cell_type": "code",
   "execution_count": 60,
   "id": "d558ae53",
   "metadata": {
    "execution": {
     "iopub.execute_input": "2022-11-23T11:56:26.308582Z",
     "iopub.status.busy": "2022-11-23T11:56:26.307103Z",
     "iopub.status.idle": "2022-11-23T11:56:26.316461Z",
     "shell.execute_reply": "2022-11-23T11:56:26.313991Z"
    },
    "papermill": {
     "duration": 0.035438,
     "end_time": "2022-11-23T11:56:26.319972",
     "exception": false,
     "start_time": "2022-11-23T11:56:26.284534",
     "status": "completed"
    },
    "tags": []
   },
   "outputs": [
    {
     "name": "stdout",
     "output_type": "stream",
     "text": [
      "key = 1 value = A\n",
      "key = 2 value = B\n",
      "key = 3 value = C\n",
      "key = 4 value = D\n",
      "key = 5 value = E\n"
     ]
    }
   ],
   "source": [
    "for key in D:\n",
    "    print('key = ' + key + ' ' + 'value = ' + D[key])"
   ]
  },
  {
   "cell_type": "code",
   "execution_count": 62,
   "id": "22f7e60f",
   "metadata": {
    "execution": {
     "iopub.execute_input": "2022-11-23T11:56:26.424584Z",
     "iopub.status.busy": "2022-11-23T11:56:26.424129Z",
     "iopub.status.idle": "2022-11-23T11:56:26.434290Z",
     "shell.execute_reply": "2022-11-23T11:56:26.432760Z"
    },
    "papermill": {
     "duration": 0.037126,
     "end_time": "2022-11-23T11:56:26.437069",
     "exception": false,
     "start_time": "2022-11-23T11:56:26.399943",
     "status": "completed"
    },
    "tags": []
   },
   "outputs": [
    {
     "data": {
      "text/plain": [
       "[0, 1, 2, 3, 4, 5, 6, 7, 8, 9]"
      ]
     },
     "execution_count": 62,
     "metadata": {},
     "output_type": "execute_result"
    }
   ],
   "source": [
    "L = []\n",
    "for i in range(0,10):\n",
    "    L.append(i)\n",
    "L"
   ]
  },
  {
   "cell_type": "code",
   "execution_count": 63,
   "id": "2b15d025",
   "metadata": {
    "execution": {
     "iopub.execute_input": "2022-11-23T11:56:26.495534Z",
     "iopub.status.busy": "2022-11-23T11:56:26.493546Z",
     "iopub.status.idle": "2022-11-23T11:56:26.504592Z",
     "shell.execute_reply": "2022-11-23T11:56:26.502883Z"
    },
    "papermill": {
     "duration": 0.050066,
     "end_time": "2022-11-23T11:56:26.509139",
     "exception": false,
     "start_time": "2022-11-23T11:56:26.459073",
     "status": "completed"
    },
    "tags": []
   },
   "outputs": [
    {
     "data": {
      "text/plain": [
       "[0, 1, 2, 3, 4, 5, 6, 7, 8, 9]"
      ]
     },
     "execution_count": 63,
     "metadata": {},
     "output_type": "execute_result"
    }
   ],
   "source": [
    "L = [i for i in range(0,10)]\n",
    "L"
   ]
  },
  {
   "cell_type": "code",
   "execution_count": 64,
   "id": "1043d616",
   "metadata": {
    "execution": {
     "iopub.execute_input": "2022-11-23T11:56:26.571373Z",
     "iopub.status.busy": "2022-11-23T11:56:26.570896Z",
     "iopub.status.idle": "2022-11-23T11:56:26.579735Z",
     "shell.execute_reply": "2022-11-23T11:56:26.578769Z"
    },
    "papermill": {
     "duration": 0.043793,
     "end_time": "2022-11-23T11:56:26.585370",
     "exception": false,
     "start_time": "2022-11-23T11:56:26.541577",
     "status": "completed"
    },
    "tags": []
   },
   "outputs": [
    {
     "data": {
      "text/plain": [
       "['******', '***', '**', '*', '*', '', '*', '******', '*******']"
      ]
     },
     "execution_count": 64,
     "metadata": {},
     "output_type": "execute_result"
    }
   ],
   "source": [
    "L = ['*' * int(i) for i in \"632110167\"]\n",
    "L"
   ]
  },
  {
   "cell_type": "code",
   "execution_count": 53,
   "id": "ccaf3154",
   "metadata": {
    "execution": {
     "iopub.execute_input": "2022-11-23T11:56:26.652660Z",
     "iopub.status.busy": "2022-11-23T11:56:26.652184Z",
     "iopub.status.idle": "2022-11-23T11:56:26.661555Z",
     "shell.execute_reply": "2022-11-23T11:56:26.660011Z"
    },
    "papermill": {
     "duration": 0.045018,
     "end_time": "2022-11-23T11:56:26.665354",
     "exception": false,
     "start_time": "2022-11-23T11:56:26.620336",
     "status": "completed"
    },
    "tags": []
   },
   "outputs": [
    {
     "data": {
      "text/plain": [
       "[6, 3, 2, 1, 1, 0, 1, 6, 7]"
      ]
     },
     "execution_count": 53,
     "metadata": {},
     "output_type": "execute_result"
    }
   ],
   "source": [
    "L = [int(i) for i in \"632110167\"]\n",
    "L"
   ]
  },
  {
   "cell_type": "code",
   "execution_count": 75,
   "id": "01b127dc",
   "metadata": {
    "execution": {
     "iopub.execute_input": "2022-11-23T11:56:26.720780Z",
     "iopub.status.busy": "2022-11-23T11:56:26.719323Z",
     "iopub.status.idle": "2022-11-23T11:56:26.731681Z",
     "shell.execute_reply": "2022-11-23T11:56:26.729882Z"
    },
    "papermill": {
     "duration": 0.042649,
     "end_time": "2022-11-23T11:56:26.736218",
     "exception": false,
     "start_time": "2022-11-23T11:56:26.693569",
     "status": "completed"
    },
    "tags": []
   },
   "outputs": [
    {
     "data": {
      "text/plain": [
       "'olawaleoye'"
      ]
     },
     "execution_count": 75,
     "metadata": {},
     "output_type": "execute_result"
    }
   ],
   "source": [
    "D = {1:'e', \n",
    "     2:'w',\n",
    "     3:'o',\n",
    "     4:'a',\n",
    "     5:'a',\n",
    "     6:'l',\n",
    "     7:'l',\n",
    "     8:'o',\n",
    "     9:'e',\n",
    "     0:'y'}\n",
    "L = [D[int(i)] for i in \"3642571809\"]\n",
    "\"\".join(L)"
   ]
  },
  {
   "cell_type": "code",
   "execution_count": 76,
   "id": "734c8a46",
   "metadata": {
    "execution": {
     "iopub.execute_input": "2022-11-23T11:56:26.790341Z",
     "iopub.status.busy": "2022-11-23T11:56:26.788822Z",
     "iopub.status.idle": "2022-11-23T11:56:26.800332Z",
     "shell.execute_reply": "2022-11-23T11:56:26.798575Z"
    },
    "papermill": {
     "duration": 0.043787,
     "end_time": "2022-11-23T11:56:26.804086",
     "exception": false,
     "start_time": "2022-11-23T11:56:26.760299",
     "status": "completed"
    },
    "tags": []
   },
   "outputs": [
    {
     "data": {
      "text/plain": [
       "[0, 1, 2, 3, 4, 1, 2, 3, 4, 5, 2, 3, 4, 5, 6, 3, 4, 5, 6, 7, 4, 5, 6, 7, 8]"
      ]
     },
     "execution_count": 76,
     "metadata": {},
     "output_type": "execute_result"
    }
   ],
   "source": [
    "L = [i+j for i in range(0,5) \n",
    "         for j in range(0,5)]\n",
    "L"
   ]
  },
  {
   "cell_type": "code",
   "execution_count": 77,
   "id": "fb2a502e",
   "metadata": {
    "execution": {
     "iopub.execute_input": "2022-11-23T11:56:26.861074Z",
     "iopub.status.busy": "2022-11-23T11:56:26.860090Z",
     "iopub.status.idle": "2022-11-23T11:56:26.870156Z",
     "shell.execute_reply": "2022-11-23T11:56:26.868662Z"
    },
    "papermill": {
     "duration": 0.043362,
     "end_time": "2022-11-23T11:56:26.873634",
     "exception": false,
     "start_time": "2022-11-23T11:56:26.830272",
     "status": "completed"
    },
    "tags": []
   },
   "outputs": [
    {
     "data": {
      "text/plain": [
       "[0, 2, 4, 6, 8]"
      ]
     },
     "execution_count": 77,
     "metadata": {},
     "output_type": "execute_result"
    }
   ],
   "source": [
    "L = [i for i in range(0,10) if i%2 == 0]\n",
    "L"
   ]
  },
  {
   "cell_type": "code",
   "execution_count": 78,
   "id": "860d6ebc",
   "metadata": {
    "execution": {
     "iopub.execute_input": "2022-11-23T11:56:26.929980Z",
     "iopub.status.busy": "2022-11-23T11:56:26.929228Z",
     "iopub.status.idle": "2022-11-23T11:56:26.937923Z",
     "shell.execute_reply": "2022-11-23T11:56:26.936416Z"
    },
    "papermill": {
     "duration": 0.045216,
     "end_time": "2022-11-23T11:56:26.943862",
     "exception": false,
     "start_time": "2022-11-23T11:56:26.898646",
     "status": "completed"
    },
    "tags": []
   },
   "outputs": [
    {
     "data": {
      "text/plain": [
       "['AD', 'AE', 'AF', 'BD', 'BE', 'BF', 'CD', 'CE', 'CF']"
      ]
     },
     "execution_count": 78,
     "metadata": {},
     "output_type": "execute_result"
    }
   ],
   "source": [
    "a = 'ABC'\n",
    "b = 'DEF'\n",
    "L = [i+j for i in a for j in b]\n",
    "L"
   ]
  },
  {
   "cell_type": "code",
   "execution_count": 79,
   "id": "a6d491d9",
   "metadata": {
    "execution": {
     "iopub.execute_input": "2022-11-23T11:56:26.997736Z",
     "iopub.status.busy": "2022-11-23T11:56:26.996494Z",
     "iopub.status.idle": "2022-11-23T11:56:27.007786Z",
     "shell.execute_reply": "2022-11-23T11:56:27.006452Z"
    },
    "papermill": {
     "duration": 0.041185,
     "end_time": "2022-11-23T11:56:27.010945",
     "exception": false,
     "start_time": "2022-11-23T11:56:26.969760",
     "status": "completed"
    },
    "tags": []
   },
   "outputs": [
    {
     "data": {
      "text/plain": [
       "['even', 'odd', 'even', 'odd', 'even', 'odd', 'even', 'odd', 'even', 'odd']"
      ]
     },
     "execution_count": 79,
     "metadata": {},
     "output_type": "execute_result"
    }
   ],
   "source": [
    "L = ['even' if i%2 == 0 else 'odd' for i in range(0,10)]\n",
    "L"
   ]
  },
  {
   "cell_type": "code",
   "execution_count": 80,
   "id": "3a03aa71",
   "metadata": {
    "execution": {
     "iopub.execute_input": "2022-11-23T11:56:27.063862Z",
     "iopub.status.busy": "2022-11-23T11:56:27.063218Z",
     "iopub.status.idle": "2022-11-23T11:56:27.072750Z",
     "shell.execute_reply": "2022-11-23T11:56:27.070280Z"
    },
    "papermill": {
     "duration": 0.040247,
     "end_time": "2022-11-23T11:56:27.076102",
     "exception": false,
     "start_time": "2022-11-23T11:56:27.035855",
     "status": "completed"
    },
    "tags": []
   },
   "outputs": [],
   "source": [
    "def change2thai(n):\n",
    "    D = {1:'e', 2:'w', 3:'o', 4:'a', 5:'a', 6:'l', 7:'l', 8:'o', 9:'e', 0:'y'}\n",
    "    L = [D[int(i)] for i in n]\n",
    "    return ''.join(L)"
   ]
  },
  {
   "cell_type": "code",
   "execution_count": 81,
   "id": "63a46f04",
   "metadata": {
    "execution": {
     "iopub.execute_input": "2022-11-23T11:56:27.125110Z",
     "iopub.status.busy": "2022-11-23T11:56:27.123678Z",
     "iopub.status.idle": "2022-11-23T11:56:27.132294Z",
     "shell.execute_reply": "2022-11-23T11:56:27.131098Z"
    },
    "papermill": {
     "duration": 0.036094,
     "end_time": "2022-11-23T11:56:27.135026",
     "exception": false,
     "start_time": "2022-11-23T11:56:27.098932",
     "status": "completed"
    },
    "tags": []
   },
   "outputs": [
    {
     "data": {
      "text/plain": [
       "'olawaleoye'"
      ]
     },
     "execution_count": 81,
     "metadata": {},
     "output_type": "execute_result"
    }
   ],
   "source": [
    "change2thai('3642571809')"
   ]
  },
  {
   "cell_type": "code",
   "execution_count": 61,
   "id": "cbc1671c",
   "metadata": {
    "execution": {
     "iopub.execute_input": "2022-11-23T11:56:27.183535Z",
     "iopub.status.busy": "2022-11-23T11:56:27.182035Z",
     "iopub.status.idle": "2022-11-23T11:56:27.196221Z",
     "shell.execute_reply": "2022-11-23T11:56:27.194163Z"
    },
    "papermill": {
     "duration": 0.042187,
     "end_time": "2022-11-23T11:56:27.199043",
     "exception": false,
     "start_time": "2022-11-23T11:56:27.156856",
     "status": "completed"
    },
    "tags": []
   },
   "outputs": [
    {
     "name": "stdout",
     "output_type": "stream",
     "text": [
      "         \n",
      "        **\n",
      "       ****\n",
      "      ******\n",
      "     ********\n",
      "    **********\n",
      "   ************\n",
      "  **************\n",
      " ****************\n",
      "******************\n",
      "          \n",
      "         __\n",
      "        ____\n",
      "       ______\n",
      "      ________\n",
      "     __________\n",
      "    ____________\n",
      "   ______________\n",
      "  ________________\n",
      " __________________\n",
      "          \n",
      "         //\n",
      "        ////\n",
      "       //////\n",
      "      ////////\n",
      "     //////////\n",
      "    ////////////\n",
      "   //////////////\n",
      "  ////////////////\n",
      " //////////////////\n"
     ]
    }
   ],
   "source": [
    "for i in range(0,10):\n",
    "    print(' ' * (9-i) + '*' * i, end = '')\n",
    "    print('*' * i)\n",
    "for i in range(0,10):\n",
    "    print(' ' * (10-i) + '_' * i,end = '')\n",
    "    print('_'* i)\n",
    "for i in range(0,10):\n",
    "    print(' ' * (10-i) + '/' * i,end = '')\n",
    "    print('/' * i)"
   ]
  },
  {
   "cell_type": "code",
   "execution_count": 62,
   "id": "4190c4e6",
   "metadata": {
    "execution": {
     "iopub.execute_input": "2022-11-23T11:56:27.249420Z",
     "iopub.status.busy": "2022-11-23T11:56:27.248874Z",
     "iopub.status.idle": "2022-11-23T11:56:27.258269Z",
     "shell.execute_reply": "2022-11-23T11:56:27.256819Z"
    },
    "papermill": {
     "duration": 0.039048,
     "end_time": "2022-11-23T11:56:27.262315",
     "exception": false,
     "start_time": "2022-11-23T11:56:27.223267",
     "status": "completed"
    },
    "tags": []
   },
   "outputs": [
    {
     "name": "stdout",
     "output_type": "stream",
     "text": [
      "         *    **\n",
      "        **   ****\n",
      "       ***  ******\n",
      "      **** ********\n",
      "     ***************\n",
      "    ******************\n",
      "   *********************\n",
      "  ************************\n",
      " ***************************\n",
      "******************************\n",
      "*********************************\n",
      "************************************\n",
      "***************************************\n",
      "******************************************\n",
      "*********************************************\n",
      "************************************************\n",
      "***************************************************\n",
      "******************************************************\n",
      "*********************************************************\n",
      "************************************************************\n",
      "***************************************************************\n",
      "******************************************************************\n",
      "*********************************************************************\n",
      "************************************************************************\n"
     ]
    }
   ],
   "source": [
    "for i in range(1,25):\n",
    "    print(' ' * (10-i) + '*' * i, end = '') , print(' ' * (5-i) + '*' * i,end = '')\n",
    "    print('*' * i)"
   ]
  },
  {
   "cell_type": "code",
   "execution_count": 63,
   "id": "0a762b71",
   "metadata": {
    "execution": {
     "iopub.execute_input": "2022-11-23T11:56:27.312156Z",
     "iopub.status.busy": "2022-11-23T11:56:27.310950Z",
     "iopub.status.idle": "2022-11-23T11:56:27.321372Z",
     "shell.execute_reply": "2022-11-23T11:56:27.319608Z"
    },
    "papermill": {
     "duration": 0.037644,
     "end_time": "2022-11-23T11:56:27.324389",
     "exception": false,
     "start_time": "2022-11-23T11:56:27.286745",
     "status": "completed"
    },
    "tags": []
   },
   "outputs": [
    {
     "name": "stdout",
     "output_type": "stream",
     "text": [
      "           \n",
      "          __\n",
      "         ____\n",
      "        ______\n",
      "       ________\n",
      "      __________\n",
      "     ____________\n",
      "    ______________\n",
      "   ________________\n",
      "  __________________\n",
      "**********************\n",
      "**********************\n",
      "**********************\n",
      "**********************\n",
      "**********************\n",
      "**********************\n",
      "**********************\n",
      "**********************\n",
      "**********************\n",
      "**********************\n"
     ]
    }
   ],
   "source": [
    "for i in range(0,10):\n",
    "    print(' ' * (11-i) + '_' * i,end = '')\n",
    "    print('_'* i)\n",
    "for i in range(0,10):\n",
    "    print('' * (-i) + '*' +(20) * '*' + '*',)"
   ]
  },
  {
   "cell_type": "code",
   "execution_count": 82,
   "id": "811ac2f7",
   "metadata": {
    "execution": {
     "iopub.execute_input": "2022-11-23T11:56:27.372453Z",
     "iopub.status.busy": "2022-11-23T11:56:27.372013Z",
     "iopub.status.idle": "2022-11-23T11:56:27.383811Z",
     "shell.execute_reply": "2022-11-23T11:56:27.382249Z"
    },
    "papermill": {
     "duration": 0.041471,
     "end_time": "2022-11-23T11:56:27.388509",
     "exception": false,
     "start_time": "2022-11-23T11:56:27.347038",
     "status": "completed"
    },
    "tags": []
   },
   "outputs": [
    {
     "name": "stdout",
     "output_type": "stream",
     "text": [
      "Even number is =  6\n",
      "Odd number is =  5\n"
     ]
    }
   ],
   "source": [
    "A = [10,15,20,25,30,35,40,45,50,55,60]\n",
    "Number = ['even' if i%2 == 0 else 'odd' for i in A]\n",
    "print('Even number is = ',Number.count('even'))\n",
    "print('Odd number is = ',Number.count('odd'))"
   ]
  },
  {
   "cell_type": "markdown",
   "id": "d9072597",
   "metadata": {},
   "source": [
    "## While loop\n",
    "The while Loop With the while loop we can execute a set of statements as long as a condition is true. \n",
    "\n",
    "    Example Get your own  Server Print i as long as i is less than 6: \n",
    "        i = 1 \n",
    "        while i < 6: \n",
    "            print(i)\n",
    "            i += 1"
   ]
  },
  {
   "cell_type": "code",
   "execution_count": 86,
   "id": "bc4fa79c",
   "metadata": {
    "execution": {
     "iopub.execute_input": "2022-11-23T11:56:26.367103Z",
     "iopub.status.busy": "2022-11-23T11:56:26.366615Z",
     "iopub.status.idle": "2022-11-23T11:56:26.374478Z",
     "shell.execute_reply": "2022-11-23T11:56:26.372730Z"
    },
    "papermill": {
     "duration": 0.036704,
     "end_time": "2022-11-23T11:56:26.378322",
     "exception": false,
     "start_time": "2022-11-23T11:56:26.341618",
     "status": "completed"
    },
    "tags": []
   },
   "outputs": [
    {
     "name": "stdout",
     "output_type": "stream",
     "text": [
      "0\n",
      "1\n",
      "2\n",
      "3\n",
      "4\n",
      "5\n",
      "6\n",
      "7\n",
      "8\n",
      "9\n"
     ]
    }
   ],
   "source": [
    "i = 0\n",
    "while i < 10:\n",
    "    print(i)\n",
    "    i = i + 1"
   ]
  },
  {
   "cell_type": "code",
   "execution_count": 89,
   "id": "3231412e",
   "metadata": {
    "scrolled": false
   },
   "outputs": [
    {
     "name": "stdout",
     "output_type": "stream",
     "text": [
      "Hello Geek\n",
      "Hello Geek\n",
      "Hello Geek\n"
     ]
    }
   ],
   "source": [
    "count = 0\n",
    "while (count < 3):\n",
    "    count = count + 1\n",
    "    print(\"Hello Geek\")"
   ]
  },
  {
   "cell_type": "code",
   "execution_count": 90,
   "id": "b77673b6",
   "metadata": {},
   "outputs": [
    {
     "name": "stdout",
     "output_type": "stream",
     "text": [
      "baz\n",
      "bar\n",
      "foo\n"
     ]
    }
   ],
   "source": [
    "a = ['foo', 'bar', 'baz']\n",
    "while a:\n",
    "    print(a.pop(-1))"
   ]
  },
  {
   "cell_type": "code",
   "execution_count": null,
   "id": "3bcc253e",
   "metadata": {},
   "outputs": [],
   "source": []
  },
  {
   "cell_type": "code",
   "execution_count": null,
   "id": "7c149f96",
   "metadata": {},
   "outputs": [],
   "source": []
  }
 ],
 "metadata": {
  "kernelspec": {
   "display_name": "Python 3 (ipykernel)",
   "language": "python",
   "name": "python3"
  },
  "language_info": {
   "codemirror_mode": {
    "name": "ipython",
    "version": 3
   },
   "file_extension": ".py",
   "mimetype": "text/x-python",
   "name": "python",
   "nbconvert_exporter": "python",
   "pygments_lexer": "ipython3",
   "version": "3.10.9"
  },
  "papermill": {
   "default_parameters": {},
   "duration": 15.855378,
   "end_time": "2022-11-23T11:56:28.512227",
   "environment_variables": {},
   "exception": null,
   "input_path": "__notebook__.ipynb",
   "output_path": "__notebook__.ipynb",
   "parameters": {},
   "start_time": "2022-11-23T11:56:12.656849",
   "version": "2.3.4"
  }
 },
 "nbformat": 4,
 "nbformat_minor": 5
}
